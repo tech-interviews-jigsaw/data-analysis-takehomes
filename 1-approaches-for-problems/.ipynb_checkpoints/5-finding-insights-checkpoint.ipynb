{
 "cells": [
  {
   "cell_type": "markdown",
   "metadata": {},
   "source": [
    "# Finding insights"
   ]
  },
  {
   "cell_type": "markdown",
   "metadata": {},
   "source": [
    "### Introduction"
   ]
  },
  {
   "cell_type": "markdown",
   "metadata": {},
   "source": [
    "In the last lesson, we built up a library to quickly explore our data.  But just printing out a mess of graphs is of little use without some thought behind them.  So in this lesson, let's try to find interesting things in the data."
   ]
  },
  {
   "cell_type": "markdown",
   "metadata": {},
   "source": [
    "### Loading our data"
   ]
  },
  {
   "cell_type": "code",
   "execution_count": 3,
   "metadata": {},
   "outputs": [],
   "source": [
    "from sqlalchemy import create_engine\n",
    "# change the jeffreykatz to your postgres username\n",
    "conn_string = 'postgresql://jeffreykatz@localhost/ecommerce'\n",
    "engine = create_engine(conn_string)"
   ]
  },
  {
   "cell_type": "code",
   "execution_count": 4,
   "metadata": {},
   "outputs": [
    {
     "data": {
      "text/html": [
       "<div>\n",
       "<style scoped>\n",
       "    .dataframe tbody tr th:only-of-type {\n",
       "        vertical-align: middle;\n",
       "    }\n",
       "\n",
       "    .dataframe tbody tr th {\n",
       "        vertical-align: top;\n",
       "    }\n",
       "\n",
       "    .dataframe thead th {\n",
       "        text-align: right;\n",
       "    }\n",
       "</style>\n",
       "<table border=\"1\" class=\"dataframe\">\n",
       "  <thead>\n",
       "    <tr style=\"text-align: right;\">\n",
       "      <th></th>\n",
       "      <th>index</th>\n",
       "      <th>transaction_id</th>\n",
       "      <th>customer_id</th>\n",
       "      <th>product</th>\n",
       "      <th>gender</th>\n",
       "      <th>device_type</th>\n",
       "      <th>country</th>\n",
       "      <th>state</th>\n",
       "      <th>city</th>\n",
       "      <th>category</th>\n",
       "      <th>...</th>\n",
       "      <th>delivery_type</th>\n",
       "      <th>quantity</th>\n",
       "      <th>transaction_start</th>\n",
       "      <th>transaction_result</th>\n",
       "      <th>amount</th>\n",
       "      <th>individual_price</th>\n",
       "      <th>month</th>\n",
       "      <th>week</th>\n",
       "      <th>dow</th>\n",
       "      <th>hour</th>\n",
       "    </tr>\n",
       "  </thead>\n",
       "  <tbody>\n",
       "    <tr>\n",
       "      <th>0</th>\n",
       "      <td>0</td>\n",
       "      <td>40170</td>\n",
       "      <td>1348959766</td>\n",
       "      <td>Hair Band</td>\n",
       "      <td>Female</td>\n",
       "      <td>Web</td>\n",
       "      <td>United States</td>\n",
       "      <td>New York</td>\n",
       "      <td>New York City</td>\n",
       "      <td>Accessories</td>\n",
       "      <td>...</td>\n",
       "      <td>one-day deliver</td>\n",
       "      <td>12</td>\n",
       "      <td>1</td>\n",
       "      <td>0</td>\n",
       "      <td>6910.0</td>\n",
       "      <td>576.0</td>\n",
       "      <td>11.0</td>\n",
       "      <td>46.0</td>\n",
       "      <td>4.0</td>\n",
       "      <td>22.0</td>\n",
       "    </tr>\n",
       "    <tr>\n",
       "      <th>1</th>\n",
       "      <td>1</td>\n",
       "      <td>33374</td>\n",
       "      <td>2213674919</td>\n",
       "      <td>Hair Band</td>\n",
       "      <td>Female</td>\n",
       "      <td>Web</td>\n",
       "      <td>United States</td>\n",
       "      <td>California</td>\n",
       "      <td>Los Angles</td>\n",
       "      <td>Accessories</td>\n",
       "      <td>...</td>\n",
       "      <td>one-day deliver</td>\n",
       "      <td>17</td>\n",
       "      <td>1</td>\n",
       "      <td>1</td>\n",
       "      <td>1699.0</td>\n",
       "      <td>100.0</td>\n",
       "      <td>5.0</td>\n",
       "      <td>19.0</td>\n",
       "      <td>6.0</td>\n",
       "      <td>6.0</td>\n",
       "    </tr>\n",
       "  </tbody>\n",
       "</table>\n",
       "<p>2 rows × 21 columns</p>\n",
       "</div>"
      ],
      "text/plain": [
       "   index  transaction_id  customer_id    product  gender device_type  \\\n",
       "0      0           40170   1348959766  Hair Band  Female         Web   \n",
       "1      1           33374   2213674919  Hair Band  Female         Web   \n",
       "\n",
       "         country       state           city     category  ...  \\\n",
       "0  United States    New York  New York City  Accessories  ...   \n",
       "1  United States  California     Los Angles  Accessories  ...   \n",
       "\n",
       "     delivery_type quantity  transaction_start  transaction_result  amount  \\\n",
       "0  one-day deliver       12                  1                   0  6910.0   \n",
       "1  one-day deliver       17                  1                   1  1699.0   \n",
       "\n",
       "   individual_price  month  week  dow  hour  \n",
       "0             576.0   11.0  46.0  4.0  22.0  \n",
       "1             100.0    5.0  19.0  6.0   6.0  \n",
       "\n",
       "[2 rows x 21 columns]"
      ]
     },
     "execution_count": 4,
     "metadata": {},
     "output_type": "execute_result"
    }
   ],
   "source": [
    "import pandas as pd\n",
    "\n",
    "transactions_df = pd.read_sql('select * from transactions', engine)\n",
    "transactions_df[:2]"
   ]
  },
  {
   "cell_type": "markdown",
   "metadata": {},
   "source": [
    "> And our library."
   ]
  },
  {
   "cell_type": "markdown",
   "metadata": {},
   "source": [
    "Let's also copy and paste in the functions we wrote in earlier lessons."
   ]
  },
  {
   "cell_type": "code",
   "execution_count": 5,
   "metadata": {},
   "outputs": [],
   "source": [
    "import matplotlib.pyplot as plt\n",
    "import pandas as pd\n",
    "from sqlalchemy import create_engine\n",
    "\n",
    "def build_grouped_by(table_name, col, target, engine, order_by_col = False):\n",
    "    if order_by_col:\n",
    "        query = f\"\"\"select {col}, sum({target}) total_amount from {table_name} group by {col} order by {col} asc\"\"\"\n",
    "    else:\n",
    "        query = f\"\"\"select {col}, sum({target}) total_amount from {table_name} group by {col} order by total_amount desc\"\"\"\n",
    "    grouped = pd.read_sql(query, engine)\n",
    "    return grouped\n",
    "\n",
    "def build_grouped_bys(table_name, cols, target, engine, order_by_col = False):\n",
    "    grouped_bys = []\n",
    "    for col in cols:\n",
    "        grouped = build_grouped_by(table_name, col, target, engine, order_by_col = False)\n",
    "        grouped_bys.append(grouped)\n",
    "    return grouped_bys\n",
    "\n",
    "def print_grouped_by(grouped):\n",
    "    selected_group = grouped[grouped.iloc[:, 0].values != None]\n",
    "    plt.figure(figsize=(14, 2))\n",
    "    plt.scatter(selected_group.iloc[:10, 0], selected_group.iloc[:10, 1])\n",
    "    plt.show()\n",
    "\n",
    "def print_grouped_bys(cols, grouped_bys):\n",
    "    for col, group in zip(cols, grouped_bys):\n",
    "        print(col)\n",
    "        print_grouped_by(group)\n",
    "\n",
    "def group_and_print(table_name, cols, target, engine, order_by_col = False):\n",
    "    grouped_bys = build_grouped_bys(table_name, cols, target, engine, order_by_col)\n",
    "    print_grouped_bys(cols, grouped_bys)"
   ]
  },
  {
   "cell_type": "markdown",
   "metadata": {
    "tags": []
   },
   "source": [
    "### What's interesting\n",
    "\n",
    "What does it mean to find interesting components of the data?  Well one way is to look for movement -- or differences in the data.  So for example, earlier we saw that there were differences in sales by location -- with new york having the fewest sales by city.  "
   ]
  },
  {
   "cell_type": "code",
   "execution_count": 6,
   "metadata": {},
   "outputs": [
    {
     "name": "stdout",
     "output_type": "stream",
     "text": [
      "city\n"
     ]
    },
    {
     "data": {
      "image/png": "[encoded data removed]",
      "text/plain": [
       "<Figure size 1008x144 with 1 Axes>"
      ]
     },
     "metadata": {
      "needs_background": "light"
     },
     "output_type": "display_data"
    }
   ],
   "source": [
    "# from lib import *\n",
    "group_and_print('transactions', ['city'], 'amount', engine)"
   ]
  },
  {
   "cell_type": "markdown",
   "metadata": {},
   "source": [
    "So here we found our first difference.  Each difference in the data offers a question.  Why?  Why is there a difference in sales by city.  Now we could go deeper on this one individual difference, trying to get to the bottom of it.  \n",
    "\n",
    "But we're probably not ready for that yet.  Instead, we have a function that allows us to easily see difference in sales by different attributes so let's take advantage of it.\n",
    "\n",
    "This way, we can get a sense of a lot of differences in the data and go from there."
   ]
  },
  {
   "cell_type": "markdown",
   "metadata": {},
   "source": [
    "### Start Broad and go narrow"
   ]
  },
  {
   "cell_type": "markdown",
   "metadata": {},
   "source": [
    "Really, what we're trying to do, is get an overview of what's going on in our data as quickly and easily as possible.  It also allows us to follow another strategy with data analysis:\n",
    "\n",
    "* **start broad and go narrow**\n",
    "\n",
    "In other words, we don't know what direction to dig deeper in at first, so let's just get an overview, and then we can go from there.\n",
    "\n",
    "So from here, we could just call `group_and_print` on all of our columns, but it's probably better to group our columns category -- this will allow us to see trends across different columns."
   ]
  },
  {
   "cell_type": "markdown",
   "metadata": {},
   "source": [
    "> So let's start by printing out all of our columns"
   ]
  },
  {
   "cell_type": "code",
   "execution_count": 7,
   "metadata": {},
   "outputs": [
    {
     "data": {
      "text/plain": [
       "Index(['index', 'transaction_id', 'customer_id', 'product', 'gender',\n",
       "       'device_type', 'country', 'state', 'city', 'category',\n",
       "       'customer_login_type', 'delivery_type', 'quantity', 'transaction_start',\n",
       "       'transaction_result', 'amount', 'individual_price', 'month', 'week',\n",
       "       'dow', 'hour'],\n",
       "      dtype='object')"
      ]
     },
     "execution_count": 7,
     "metadata": {},
     "output_type": "execute_result"
    }
   ],
   "source": [
    "transactions_df.columns"
   ]
  },
  {
   "cell_type": "markdown",
   "metadata": {},
   "source": [
    "And then begin to organize them:"
   ]
  },
  {
   "cell_type": "code",
   "execution_count": 8,
   "metadata": {},
   "outputs": [],
   "source": [
    "time_cols = ['month', 'week', 'dow', 'hour']\n",
    "customer_cols = ['gender', 'customer_id']\n",
    "\n",
    "product_cols = ['product', 'category', 'individual_price']\n",
    "channels = ['device_type', 'customer_login_type', 'delivery_type']\n",
    "transactions = ['transaction_id', 'quantity', 'transaction_start', 'transaction_result']"
   ]
  },
  {
   "cell_type": "markdown",
   "metadata": {},
   "source": [
    "Then we can quickly expore them."
   ]
  },
  {
   "cell_type": "code",
   "execution_count": 9,
   "metadata": {},
   "outputs": [
    {
     "name": "stdout",
     "output_type": "stream",
     "text": [
      "product\n"
     ]
    },
    {
     "data": {
      "image/png": "[encoded data removed]",
      "text/plain": [
       "<Figure size 1008x144 with 1 Axes>"
      ]
     },
     "metadata": {
      "needs_background": "light"
     },
     "output_type": "display_data"
    },
    {
     "name": "stdout",
     "output_type": "stream",
     "text": [
      "category\n"
     ]
    },
    {
     "data": {
      "image/png": "[encoded data removed]",
      "text/plain": [
       "<Figure size 1008x144 with 1 Axes>"
      ]
     },
     "metadata": {
      "needs_background": "light"
     },
     "output_type": "display_data"
    },
    {
     "name": "stdout",
     "output_type": "stream",
     "text": [
      "individual_price\n"
     ]
    },
    {
     "data": {
      "image/png": "[encoded data removed]",
      "text/plain": [
       "<Figure size 1008x144 with 1 Axes>"
      ]
     },
     "metadata": {
      "needs_background": "light"
     },
     "output_type": "display_data"
    }
   ],
   "source": [
    "group_and_print('transactions', product_cols, 'amount', engine)"
   ]
  },
  {
   "cell_type": "markdown",
   "metadata": {},
   "source": [
    "So above, we can get a sense of our popular products.  But notice that `individual_price` is a confusing category to group by, as we are summing up the revenue.  So while we can see that highest amount is by where the price is 250, what might be more interesting is how the number of orders change as the price changes.  "
   ]
  },
  {
   "cell_type": "code",
   "execution_count": 10,
   "metadata": {},
   "outputs": [],
   "source": [
    "def group_by_count(col, table_name, engine):\n",
    "    query = f\"\"\"select {col}, count(*) num from {table_name} group by {col} order by {col} asc\"\"\"\n",
    "    grouped = pd.read_sql(query, engine)\n",
    "    return grouped"
   ]
  },
  {
   "cell_type": "code",
   "execution_count": 11,
   "metadata": {},
   "outputs": [
    {
     "data": {
      "image/png": "[encoded data removed]",
      "text/plain": [
       "<Figure size 1008x144 with 1 Axes>"
      ]
     },
     "metadata": {
      "needs_background": "light"
     },
     "output_type": "display_data"
    }
   ],
   "source": [
    "grouped = group_by_count('individual_price', 'transactions', engine)\n",
    "print_grouped_by(grouped[1:])"
   ]
  },
  {
   "cell_type": "markdown",
   "metadata": {},
   "source": [
    "It appears that most of the sales are in the 5 - 8 dollar range, which perhaps tells us about our products or our customers.  What's particularly interesting is that we would expect the popular products of face creams, and clothing to be more expensive.  \n",
    "\n",
    "But this is just good to note for now -- we could perhaps look at the prices of individual products later.  But again, we should stay big picture at this stage."
   ]
  },
  {
   "cell_type": "markdown",
   "metadata": {},
   "source": [
    "### Next category"
   ]
  },
  {
   "cell_type": "code",
   "execution_count": 12,
   "metadata": {},
   "outputs": [
    {
     "name": "stdout",
     "output_type": "stream",
     "text": [
      "device_type\n"
     ]
    },
    {
     "data": {
      "image/png": "[encoded data removed]",
      "text/plain": [
       "<Figure size 1008x144 with 1 Axes>"
      ]
     },
     "metadata": {
      "needs_background": "light"
     },
     "output_type": "display_data"
    },
    {
     "name": "stdout",
     "output_type": "stream",
     "text": [
      "customer_login_type\n"
     ]
    },
    {
     "data": {
      "image/png": "[encoded data removed]",
      "text/plain": [
       "<Figure size 1008x144 with 1 Axes>"
      ]
     },
     "metadata": {
      "needs_background": "light"
     },
     "output_type": "display_data"
    },
    {
     "name": "stdout",
     "output_type": "stream",
     "text": [
      "delivery_type\n"
     ]
    },
    {
     "data": {
      "image/png": "[encoded data removed]",
      "text/plain": [
       "<Figure size 1008x144 with 1 Axes>"
      ]
     },
     "metadata": {
      "needs_background": "light"
     },
     "output_type": "display_data"
    }
   ],
   "source": [
    "group_and_print('transactions', channels, 'amount', engine)"
   ]
  },
  {
   "cell_type": "markdown",
   "metadata": {},
   "source": [
    "So again, we have some interesting information here.  With the trends in one day delivery and members seemingly reinforcing each other -- a lot of our customers are members, and they likely have one day delivery.\n",
    "\n",
    "Is this interesting?  Probably.  It seems like most of our customers are members -- which is good because we have a loyal following.  But bad, because if we lose these customers it doesn't look like we are gaining many new ones, or guests."
   ]
  },
  {
   "cell_type": "markdown",
   "metadata": {},
   "source": [
    "### Opportunities and Threats\n",
    "\n",
    "Now we still have some additional columns to explore, but for the sake of this reading let's move on as we can already gather some insights.  Let's summarize the broader strengths and weaknesses.\n",
    "\n",
    "* Strengths: Purchasing by membership customers\n",
    "* Weaknesses: Purchasing by non-members, and potentially acquisition of new customers.\n",
    "\n",
    "We probably want to do more analysis to learn more about each of these potential trends.  But, under time constraints, this is what the evidence suggests.\n",
    "\n",
    "There are a couple of actions/questions we can take moving forward:\n",
    "\n",
    "* Threats\n",
    "    * Learn more about customer acquisition.  We must have acquired customers at some point, so what changed?  How do members and non-members perceive the company diferently?\n",
    "    * Losing our members. Members are critical part of our business, and is keeping our business afloat.  We should find out how to cater to them so we don't lose them.\n",
    "* Opportunities\n",
    "    * Can we grow membership?  We should look at the membership funnel to see how to go from acquiring new customers, to then converting them to members.\n",
    "    * Can we extract more revenue from existing members?\n",
    "\n",
    "Finally, we can keep in mind our strongest products and product categories.  Shirts, Jeans, and face cream."
   ]
  },
  {
   "cell_type": "markdown",
   "metadata": {},
   "source": [
    "The above of identifying strengths, weaknesses, opportunities and threats is called **SWOT analysis**, and can come in handy when thinking through a business."
   ]
  },
  {
   "cell_type": "markdown",
   "metadata": {},
   "source": [
    "### Summary\n",
    "\n",
    "In this lesson, we saw that we can use the functions we built in the previous lesson to **start broad and go narrow**, getting an overview of the business.  We then began to identify a couple of key findings to look at further.  In short, we saw that our business currently relies on existing members but does not appear to be acquiring new ones.  \n",
    "\n",
    "We used SWOT analysis to identify the threats and opportunities coming from that.  Finally, we summarized our popular product lines.  "
   ]
  }
 ],
 "metadata": {
  "kernelspec": {
   "display_name": "Python 3 (ipykernel)",
   "language": "python",
   "name": "python3"
  },
  "language_info": {
   "codemirror_mode": {
    "name": "ipython",
    "version": 3
   },
   "file_extension": ".py",
   "mimetype": "text/x-python",
   "name": "python",
   "nbconvert_exporter": "python",
   "pygments_lexer": "ipython3",
   "version": "3.10.6"
  },
  "vscode": {
   "interpreter": {
    "hash": "b0fa6594d8f4cbf19f97940f81e996739fb7646882a419484c72d19e05852a7e"
   }
  }
 },
 "nbformat": 4,
 "nbformat_minor": 4
}
