{
 "cells": [
  {
   "cell_type": "markdown",
   "metadata": {},
   "source": [
    "# Funnel Analysis"
   ]
  },
  {
   "cell_type": "markdown",
   "metadata": {},
   "source": [
    "### Introduction\n",
    "\n",
    "A last step in our analysis may be some funnel analysis.  Here we want to try to determine why users do or do not continue on with the customer journey."
   ]
  },
  {
   "cell_type": "markdown",
   "metadata": {},
   "source": [
    "### Making initial selections"
   ]
  },
  {
   "cell_type": "code",
   "execution_count": 2,
   "metadata": {},
   "outputs": [],
   "source": [
    "from sqlalchemy import create_engine\n",
    "import pandas as pd\n",
    "\n",
    "def load_data():\n",
    "    engine = create_engine('postgresql://@localhost:5432/willy_wonka')\n",
    "    df = pd.read_sql('select * from raw_lineitems', engine)\n",
    "    return engine, df\n",
    "\n",
    "engine, df = load_data()"
   ]
  },
  {
   "cell_type": "markdown",
   "metadata": {},
   "source": [
    "* Finding what leads to repeat purchases\n",
    "\n",
    "Write a query to select the line item that is the first line item of users who have multiple line items."
   ]
  },
  {
   "cell_type": "code",
   "execution_count": 4,
   "metadata": {},
   "outputs": [
    {
     "data": {
      "text/html": [
       "<div>\n",
       "<style scoped>\n",
       "    .dataframe tbody tr th:only-of-type {\n",
       "        vertical-align: middle;\n",
       "    }\n",
       "\n",
       "    .dataframe tbody tr th {\n",
       "        vertical-align: top;\n",
       "    }\n",
       "\n",
       "    .dataframe thead th {\n",
       "        text-align: right;\n",
       "    }\n",
       "</style>\n",
       "<table border=\"1\" class=\"dataframe\">\n",
       "  <thead>\n",
       "    <tr style=\"text-align: right;\">\n",
       "      <th></th>\n",
       "      <th>user_id</th>\n",
       "      <th>list_sku</th>\n",
       "      <th>list_sku_category</th>\n",
       "      <th>list_sku_flavor</th>\n",
       "      <th>order_coupon_code</th>\n",
       "      <th>order_referrer</th>\n",
       "      <th>order_channel</th>\n",
       "      <th>order_ad_shown</th>\n",
       "      <th>order_is_freeshipping</th>\n",
       "      <th>order_coupon_code</th>\n",
       "      <th>user_loyalty_program</th>\n",
       "      <th>order_value</th>\n",
       "      <th>running_order_count</th>\n",
       "      <th>total_order_count</th>\n",
       "    </tr>\n",
       "  </thead>\n",
       "  <tbody>\n",
       "    <tr>\n",
       "      <th>0</th>\n",
       "      <td>USER-16929017</td>\n",
       "      <td>SKU-5018</td>\n",
       "      <td>Low-Carb Bar</td>\n",
       "      <td>Apple Banana</td>\n",
       "      <td>express5</td>\n",
       "      <td>IAC</td>\n",
       "      <td>in_store</td>\n",
       "      <td>week37_ 2</td>\n",
       "      <td>0</td>\n",
       "      <td>express5</td>\n",
       "      <td>silver</td>\n",
       "      <td>10.852917</td>\n",
       "      <td>1</td>\n",
       "      <td>2</td>\n",
       "    </tr>\n",
       "    <tr>\n",
       "      <th>1</th>\n",
       "      <td>USER-16929034</td>\n",
       "      <td>SKU-5005</td>\n",
       "      <td>Protein Powder</td>\n",
       "      <td>Cookies and Cream</td>\n",
       "      <td>express10</td>\n",
       "      <td>Yahoo!</td>\n",
       "      <td>digital_wholesale</td>\n",
       "      <td>week45_ 5</td>\n",
       "      <td>0</td>\n",
       "      <td>express10</td>\n",
       "      <td>none</td>\n",
       "      <td>7.629942</td>\n",
       "      <td>1</td>\n",
       "      <td>2</td>\n",
       "    </tr>\n",
       "  </tbody>\n",
       "</table>\n",
       "</div>"
      ],
      "text/plain": [
       "         user_id  list_sku list_sku_category    list_sku_flavor  \\\n",
       "0  USER-16929017  SKU-5018      Low-Carb Bar       Apple Banana   \n",
       "1  USER-16929034  SKU-5005    Protein Powder  Cookies and Cream   \n",
       "\n",
       "  order_coupon_code order_referrer      order_channel order_ad_shown  \\\n",
       "0          express5            IAC           in_store      week37_ 2   \n",
       "1         express10         Yahoo!  digital_wholesale      week45_ 5   \n",
       "\n",
       "   order_is_freeshipping order_coupon_code user_loyalty_program  order_value  \\\n",
       "0                      0          express5               silver    10.852917   \n",
       "1                      0         express10                 none     7.629942   \n",
       "\n",
       "   running_order_count  total_order_count  \n",
       "0                    1                  2  \n",
       "1                    1                  2  "
      ]
     },
     "execution_count": 4,
     "metadata": {},
     "output_type": "execute_result"
    }
   ],
   "source": [
    "query = \"\"\"\n",
    "\n",
    "\"\"\"\n",
    "first_for_repurchases_df = pd.read_sql(query, engine)\n",
    "first_for_repurchases_df[:2]\n",
    "\n",
    "# user_id\tlist_sku\tlist_sku_category\tlist_sku_flavor\torder_coupon_code\torder_referrer\torder_channel\torder_ad_shown\torder_is_freeshipping\torder_coupon_code\tuser_loyalty_program\torder_value\trunning_order_count\ttotal_order_count\n",
    "# 0\tUSER-16929017\tSKU-5018\tLow-Carb Bar\tApple Banana\texpress5\tIAC\tin_store\tweek37_ 2\t0\texpress5\tsilver\t10.852917\t1\t2\n",
    "# 1\tUSER-16929034\tSKU-5005\tProtein Powder\tCookies and Cream\texpress10\tYahoo!\tdigital_wholesale\tweek45_ 5\t0\texpress10\tnone\t7.629942\t1\t2"
   ]
  },
  {
   "cell_type": "markdown",
   "metadata": {},
   "source": [
    "> What are some issues with the query above.  What should we do to improve it?"
   ]
  },
  {
   "cell_type": "markdown",
   "metadata": {},
   "source": [
    "* Finding causes of attrition\n",
    "\n",
    "Now let's see what may purchase may have caused our users to leave.  Write a query to select the last line item of each user's  purchases."
   ]
  },
  {
   "cell_type": "code",
   "execution_count": 1,
   "metadata": {},
   "outputs": [
    {
     "data": {
      "text/html": [
       "<div>\n",
       "<style scoped>\n",
       "    .dataframe tbody tr th:only-of-type {\n",
       "        vertical-align: middle;\n",
       "    }\n",
       "\n",
       "    .dataframe tbody tr th {\n",
       "        vertical-align: top;\n",
       "    }\n",
       "\n",
       "    .dataframe thead th {\n",
       "        text-align: right;\n",
       "    }\n",
       "</style>\n",
       "<table border=\"1\" class=\"dataframe\">\n",
       "  <thead>\n",
       "    <tr style=\"text-align: right;\">\n",
       "      <th></th>\n",
       "      <th>list_sku</th>\n",
       "      <th>list_sku_category</th>\n",
       "      <th>list_sku_flavor</th>\n",
       "      <th>order_value</th>\n",
       "      <th>running_order_count</th>\n",
       "      <th>total_order_count</th>\n",
       "    </tr>\n",
       "  </thead>\n",
       "  <tbody>\n",
       "    <tr>\n",
       "      <th>0</th>\n",
       "      <td>SKU-3013</td>\n",
       "      <td>Granola Bar</td>\n",
       "      <td>Peanut Butter</td>\n",
       "      <td>25.450311</td>\n",
       "      <td>1</td>\n",
       "      <td>1</td>\n",
       "    </tr>\n",
       "    <tr>\n",
       "      <th>1</th>\n",
       "      <td>SKU-3016,SKU-3005</td>\n",
       "      <td>Energy Shot,Energy Drink</td>\n",
       "      <td>Cherry Vanilla,Cookies and Cream</td>\n",
       "      <td>28.593869</td>\n",
       "      <td>1</td>\n",
       "      <td>1</td>\n",
       "    </tr>\n",
       "  </tbody>\n",
       "</table>\n",
       "</div>"
      ],
      "text/plain": [
       "            list_sku         list_sku_category  \\\n",
       "0           SKU-3013               Granola Bar   \n",
       "1  SKU-3016,SKU-3005  Energy Shot,Energy Drink   \n",
       "\n",
       "                    list_sku_flavor  order_value  running_order_count  \\\n",
       "0                     Peanut Butter    25.450311                    1   \n",
       "1  Cherry Vanilla,Cookies and Cream    28.593869                    1   \n",
       "\n",
       "   total_order_count  \n",
       "0                  1  \n",
       "1                  1  "
      ]
     },
     "execution_count": 4,
     "metadata": {},
     "output_type": "execute_result"
    }
   ],
   "source": [
    "query = \"\"\"\n",
    "\n",
    "\"\"\"\n",
    "\n",
    "last_purchase_df = pd.read_sql(query, engine)\n",
    "\n",
    "last_purchase_df[:2]\n",
    "\n",
    "# \tlist_sku\tlist_sku_category\tlist_sku_flavor\torder_value\trunning_order_count\ttotal_order_count\n",
    "# 0\tSKU-3013\tGranola Bar\tPeanut Butter\t25.450311\t1\t1\n",
    "# 1\tSKU-3016,SKU-3005\tEnergy Shot,Energy Drink\tCherry Vanilla,Cookies and Cream\t28.593869\t1\t1"
   ]
  },
  {
   "cell_type": "markdown",
   "metadata": {},
   "source": [
    "### Doing analysis"
   ]
  },
  {
   "cell_type": "markdown",
   "metadata": {},
   "source": [
    "Now that we have selected the relevant line items, now we can group by product features to see the kinds of products that lead to the first purchase, as opposed to those that lead to the last purchase.\n",
    "\n",
    "Use group and print functions to see the differences in the kinds of products that are associated with more purchases, and to see those that are associated with the last purchase."
   ]
  },
  {
   "cell_type": "code",
   "execution_count": null,
   "metadata": {},
   "outputs": [],
   "source": []
  },
  {
   "cell_type": "markdown",
   "metadata": {},
   "source": [
    "### Findings\n",
    "\n",
    "Write some findings below.\n",
    "\n",
    "\n"
   ]
  }
 ],
 "metadata": {
  "kernelspec": {
   "display_name": "Python 3 (ipykernel)",
   "language": "python",
   "name": "python3"
  },
  "language_info": {
   "codemirror_mode": {
    "name": "ipython",
    "version": 3
   },
   "file_extension": ".py",
   "mimetype": "text/x-python",
   "name": "python",
   "nbconvert_exporter": "python",
   "pygments_lexer": "ipython3",
   "version": "3.10.6"
  },
  "vscode": {
   "interpreter": {
    "hash": "b0fa6594d8f4cbf19f97940f81e996739fb7646882a419484c72d19e05852a7e"
   }
  }
 },
 "nbformat": 4,
 "nbformat_minor": 4
}
