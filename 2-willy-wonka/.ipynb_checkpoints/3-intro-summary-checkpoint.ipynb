{
 "cells": [
  {
   "cell_type": "markdown",
   "id": "a3373e4b-4782-427a-8a27-71d2a9b7614a",
   "metadata": {},
   "source": [
    "# Exploring Willy Wonka"
   ]
  },
  {
   "cell_type": "markdown",
   "id": "92f99d7f-eba3-439b-a18f-9a47bba553f8",
   "metadata": {},
   "source": [
    "### Introduction"
   ]
  },
  {
   "cell_type": "markdown",
   "id": "03bac59d",
   "metadata": {},
   "source": [
    "Use this notebook to just select the interesting graphs to present to a manager.  It's good to have this before going too deeply, as you may run out of time or go down a rabbit hole if you dig too deeply.  \n",
    "\n",
    "A good process is to begin by writing down some insights, or initial questions.  And have the graphs below each insight to support them."
   ]
  },
  {
   "cell_type": "code",
   "execution_count": 1,
   "id": "603a7551-61b2-4d8c-b84c-b7a3ba86b892",
   "metadata": {},
   "outputs": [
    {
     "data": {
      "text/html": [
       "<div>\n",
       "<style scoped>\n",
       "    .dataframe tbody tr th:only-of-type {\n",
       "        vertical-align: middle;\n",
       "    }\n",
       "\n",
       "    .dataframe tbody tr th {\n",
       "        vertical-align: top;\n",
       "    }\n",
       "\n",
       "    .dataframe thead th {\n",
       "        text-align: right;\n",
       "    }\n",
       "</style>\n",
       "<table border=\"1\" class=\"dataframe\">\n",
       "  <thead>\n",
       "    <tr style=\"text-align: right;\">\n",
       "      <th></th>\n",
       "      <th>order_id</th>\n",
       "      <th>user_id</th>\n",
       "      <th>list_sku</th>\n",
       "      <th>list_sku_category</th>\n",
       "      <th>list_sku_flavor</th>\n",
       "      <th>list_lineitem_id</th>\n",
       "      <th>order_date</th>\n",
       "      <th>month</th>\n",
       "      <th>week</th>\n",
       "      <th>day_of_week</th>\n",
       "      <th>...</th>\n",
       "      <th>order_coupon_code</th>\n",
       "      <th>order_referrer</th>\n",
       "      <th>order_ad_shown</th>\n",
       "      <th>order_store_city</th>\n",
       "      <th>order_store_id</th>\n",
       "      <th>order_day_part</th>\n",
       "      <th>order_is_freeshipping</th>\n",
       "      <th>user_loyalty_program</th>\n",
       "      <th>user_age</th>\n",
       "      <th>user_gender</th>\n",
       "    </tr>\n",
       "  </thead>\n",
       "  <tbody>\n",
       "    <tr>\n",
       "      <th>0</th>\n",
       "      <td>TXN-52889719</td>\n",
       "      <td>USER-16961214</td>\n",
       "      <td>SKU-3002</td>\n",
       "      <td>Energy Bar</td>\n",
       "      <td>Peanut Butter</td>\n",
       "      <td>ITEM-2009089674</td>\n",
       "      <td>2021-05-04</td>\n",
       "      <td>5.0</td>\n",
       "      <td>18.0</td>\n",
       "      <td>2.0</td>\n",
       "      <td>...</td>\n",
       "      <td>express5</td>\n",
       "      <td>Microsoft</td>\n",
       "      <td>week40_10</td>\n",
       "      <td>Dallas</td>\n",
       "      <td>Dallas-3</td>\n",
       "      <td>evening</td>\n",
       "      <td>1</td>\n",
       "      <td>bronze</td>\n",
       "      <td>49</td>\n",
       "      <td>F</td>\n",
       "    </tr>\n",
       "  </tbody>\n",
       "</table>\n",
       "<p>1 rows × 24 columns</p>\n",
       "</div>"
      ],
      "text/plain": [
       "       order_id        user_id  list_sku list_sku_category list_sku_flavor  \\\n",
       "0  TXN-52889719  USER-16961214  SKU-3002        Energy Bar   Peanut Butter   \n",
       "\n",
       "  list_lineitem_id order_date  month  week  day_of_week  ...  \\\n",
       "0  ITEM-2009089674 2021-05-04    5.0  18.0          2.0  ...   \n",
       "\n",
       "   order_coupon_code  order_referrer  order_ad_shown order_store_city  \\\n",
       "0           express5       Microsoft       week40_10           Dallas   \n",
       "\n",
       "  order_store_id order_day_part order_is_freeshipping user_loyalty_program  \\\n",
       "0       Dallas-3        evening                     1               bronze   \n",
       "\n",
       "  user_age user_gender  \n",
       "0       49           F  \n",
       "\n",
       "[1 rows x 24 columns]"
      ]
     },
     "execution_count": 1,
     "metadata": {},
     "output_type": "execute_result"
    }
   ],
   "source": [
    "from lib import load_data\n",
    "import pandas as pd\n",
    "\n",
    "engine, df = load_data()\n",
    "df[:1]"
   ]
  },
  {
   "cell_type": "code",
   "execution_count": 4,
   "id": "51b9e827-421f-42fd-9336-adbcaec83644",
   "metadata": {},
   "outputs": [],
   "source": [
    "from lib import print_grouped_bys, group_and_print"
   ]
  },
  {
   "cell_type": "code",
   "execution_count": 6,
   "id": "42b0465f-a9c1-4f0f-b687-41853112e0dd",
   "metadata": {},
   "outputs": [],
   "source": [
    "\n",
    "order_cols = ['order_single_item', 'order_date', 'order_id', 'order_item_count']\n",
    "timing_cols = ['order_day_part', 'order_date']\n",
    "location_cols = ['order_store_city', 'order_store_id']\n"
   ]
  },
  {
   "cell_type": "markdown",
   "id": "a3a092d2",
   "metadata": {},
   "source": [
    "### Consumer Insights\n",
    "\n"
   ]
  },
  {
   "cell_type": "markdown",
   "id": "e8ec850e",
   "metadata": {},
   "source": [
    "### Product Insights"
   ]
  },
  {
   "cell_type": "markdown",
   "id": "f0cb3c17",
   "metadata": {},
   "source": [
    "### Marketing Insights"
   ]
  }
 ],
 "metadata": {
  "kernelspec": {
   "display_name": "Python 3 (ipykernel)",
   "language": "python",
   "name": "python3"
  },
  "language_info": {
   "codemirror_mode": {
    "name": "ipython",
    "version": 3
   },
   "file_extension": ".py",
   "mimetype": "text/x-python",
   "name": "python",
   "nbconvert_exporter": "python",
   "pygments_lexer": "ipython3",
   "version": "3.10.6"
  },
  "vscode": {
   "interpreter": {
    "hash": "b0fa6594d8f4cbf19f97940f81e996739fb7646882a419484c72d19e05852a7e"
   }
  }
 },
 "nbformat": 4,
 "nbformat_minor": 5
}
