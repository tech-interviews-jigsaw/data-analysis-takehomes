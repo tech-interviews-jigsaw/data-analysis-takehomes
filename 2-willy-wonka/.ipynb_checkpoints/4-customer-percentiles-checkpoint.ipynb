{
 "cells": [
  {
   "cell_type": "markdown",
   "id": "a3373e4b-4782-427a-8a27-71d2a9b7614a",
   "metadata": {},
   "source": [
    "# Exploring Willy Wonka"
   ]
  },
  {
   "cell_type": "markdown",
   "id": "92f99d7f-eba3-439b-a18f-9a47bba553f8",
   "metadata": {},
   "source": [
    "### Introduction"
   ]
  },
  {
   "cell_type": "markdown",
   "id": "dcbae569",
   "metadata": {},
   "source": [
    "In this lesson, let's separate out power users from non power users."
   ]
  },
  {
   "cell_type": "markdown",
   "id": "a1b22162-5cbc-4a17-854d-f6d6506f4512",
   "metadata": {},
   "source": [
    "### Loading the Data"
   ]
  },
  {
   "cell_type": "code",
   "execution_count": 1,
   "id": "603a7551-61b2-4d8c-b84c-b7a3ba86b892",
   "metadata": {},
   "outputs": [
    {
     "data": {
      "text/html": [
       "<div>\n",
       "<style scoped>\n",
       "    .dataframe tbody tr th:only-of-type {\n",
       "        vertical-align: middle;\n",
       "    }\n",
       "\n",
       "    .dataframe tbody tr th {\n",
       "        vertical-align: top;\n",
       "    }\n",
       "\n",
       "    .dataframe thead th {\n",
       "        text-align: right;\n",
       "    }\n",
       "</style>\n",
       "<table border=\"1\" class=\"dataframe\">\n",
       "  <thead>\n",
       "    <tr style=\"text-align: right;\">\n",
       "      <th></th>\n",
       "      <th>order_id</th>\n",
       "      <th>user_id</th>\n",
       "      <th>list_sku</th>\n",
       "      <th>list_sku_category</th>\n",
       "      <th>list_sku_flavor</th>\n",
       "      <th>list_lineitem_id</th>\n",
       "      <th>order_date</th>\n",
       "      <th>month</th>\n",
       "      <th>week</th>\n",
       "      <th>day_of_week</th>\n",
       "      <th>...</th>\n",
       "      <th>order_coupon_code</th>\n",
       "      <th>order_referrer</th>\n",
       "      <th>order_ad_shown</th>\n",
       "      <th>order_store_city</th>\n",
       "      <th>order_store_id</th>\n",
       "      <th>order_day_part</th>\n",
       "      <th>order_is_freeshipping</th>\n",
       "      <th>user_loyalty_program</th>\n",
       "      <th>user_age</th>\n",
       "      <th>user_gender</th>\n",
       "    </tr>\n",
       "  </thead>\n",
       "  <tbody>\n",
       "    <tr>\n",
       "      <th>0</th>\n",
       "      <td>TXN-52889719</td>\n",
       "      <td>USER-16961214</td>\n",
       "      <td>SKU-3002</td>\n",
       "      <td>Energy Bar</td>\n",
       "      <td>Peanut Butter</td>\n",
       "      <td>ITEM-2009089674</td>\n",
       "      <td>2021-05-04</td>\n",
       "      <td>5.0</td>\n",
       "      <td>18.0</td>\n",
       "      <td>2.0</td>\n",
       "      <td>...</td>\n",
       "      <td>express5</td>\n",
       "      <td>Microsoft</td>\n",
       "      <td>week40_10</td>\n",
       "      <td>Dallas</td>\n",
       "      <td>Dallas-3</td>\n",
       "      <td>evening</td>\n",
       "      <td>1</td>\n",
       "      <td>bronze</td>\n",
       "      <td>49</td>\n",
       "      <td>F</td>\n",
       "    </tr>\n",
       "  </tbody>\n",
       "</table>\n",
       "<p>1 rows × 24 columns</p>\n",
       "</div>"
      ],
      "text/plain": [
       "       order_id        user_id  list_sku list_sku_category list_sku_flavor  \\\n",
       "0  TXN-52889719  USER-16961214  SKU-3002        Energy Bar   Peanut Butter   \n",
       "\n",
       "  list_lineitem_id order_date  month  week  day_of_week  ...  \\\n",
       "0  ITEM-2009089674 2021-05-04    5.0  18.0          2.0  ...   \n",
       "\n",
       "   order_coupon_code  order_referrer  order_ad_shown order_store_city  \\\n",
       "0           express5       Microsoft       week40_10           Dallas   \n",
       "\n",
       "  order_store_id order_day_part order_is_freeshipping user_loyalty_program  \\\n",
       "0       Dallas-3        evening                     1               bronze   \n",
       "\n",
       "  user_age user_gender  \n",
       "0       49           F  \n",
       "\n",
       "[1 rows x 24 columns]"
      ]
     },
     "execution_count": 1,
     "metadata": {},
     "output_type": "execute_result"
    }
   ],
   "source": [
    "from lib import load_data\n",
    "import pandas as pd\n",
    "\n",
    "engine, df = load_data()\n",
    "df[:2]"
   ]
  },
  {
   "cell_type": "markdown",
   "id": "60c95e5e",
   "metadata": {},
   "source": [
    "### Percentile Spend by user\n",
    "\n",
    "Write a sql query to calculate a running total of the total spend per user.  For example, maybe the top spending user is responsible for .016% of of all sales.  And by the second user we get to .03% spend of all sales, as that second user is responsible for .14% of all sales.\n",
    "\n",
    "> Write the query below."
   ]
  },
  {
   "cell_type": "code",
   "execution_count": 3,
   "id": "90d7038c",
   "metadata": {},
   "outputs": [
    {
     "data": {
      "text/html": [
       "<div>\n",
       "<style scoped>\n",
       "    .dataframe tbody tr th:only-of-type {\n",
       "        vertical-align: middle;\n",
       "    }\n",
       "\n",
       "    .dataframe tbody tr th {\n",
       "        vertical-align: top;\n",
       "    }\n",
       "\n",
       "    .dataframe thead th {\n",
       "        text-align: right;\n",
       "    }\n",
       "</style>\n",
       "<table border=\"1\" class=\"dataframe\">\n",
       "  <thead>\n",
       "    <tr style=\"text-align: right;\">\n",
       "      <th></th>\n",
       "      <th>user_id</th>\n",
       "      <th>total_order_value</th>\n",
       "      <th>percentage_spend</th>\n",
       "    </tr>\n",
       "  </thead>\n",
       "  <tbody>\n",
       "    <tr>\n",
       "      <th>0</th>\n",
       "      <td>USER-17215538</td>\n",
       "      <td>972.923950</td>\n",
       "      <td>0.000160</td>\n",
       "    </tr>\n",
       "    <tr>\n",
       "      <th>1</th>\n",
       "      <td>USER-17070511</td>\n",
       "      <td>861.416265</td>\n",
       "      <td>0.000302</td>\n",
       "    </tr>\n",
       "    <tr>\n",
       "      <th>2</th>\n",
       "      <td>USER-17014986</td>\n",
       "      <td>748.281205</td>\n",
       "      <td>0.000425</td>\n",
       "    </tr>\n",
       "    <tr>\n",
       "      <th>3</th>\n",
       "      <td>USER-17115875</td>\n",
       "      <td>733.177872</td>\n",
       "      <td>0.000546</td>\n",
       "    </tr>\n",
       "  </tbody>\n",
       "</table>\n",
       "</div>"
      ],
      "text/plain": [
       "         user_id  total_order_value  percentage_spend\n",
       "0  USER-17215538         972.923950          0.000160\n",
       "1  USER-17070511         861.416265          0.000302\n",
       "2  USER-17014986         748.281205          0.000425\n",
       "3  USER-17115875         733.177872          0.000546"
      ]
     },
     "execution_count": 3,
     "metadata": {},
     "output_type": "execute_result"
    }
   ],
   "source": [
    "query = \"\"\"\n",
    "\"\"\"\n",
    "user_percentage_spend = pd.read_sql(query, engine)\n",
    "\n",
    "user_percentage_spend[:4]\n",
    "\n",
    "# \tuser_id\ttotal_order_value\tpercentage_spend\n",
    "# 0\tUSER-17215538\t972.923950\t0.000160\n",
    "# 1\tUSER-17070511\t861.416265\t0.000302\n",
    "# 2\tUSER-17014986\t748.281205\t0.000425\n",
    "# 3\tUSER-17115875\t733.177872\t0.000546"
   ]
  },
  {
   "cell_type": "markdown",
   "id": "42568701",
   "metadata": {},
   "source": [
    "Find the users who account for power users and the percentage that account for non power users.  Power users are the collection of users who account for the top 50% of revenue.  We should see that 17.28% of users account for 50 percent of revenue."
   ]
  },
  {
   "cell_type": "markdown",
   "id": "a42a4e76-9981-47c8-a1b4-d5da6bbdb30a",
   "metadata": {},
   "source": [
    "* Power users"
   ]
  },
  {
   "cell_type": "code",
   "execution_count": 5,
   "id": "5358e7aa-9119-4dd7-bb61-359b396a621d",
   "metadata": {},
   "outputs": [
    {
     "data": {
      "text/plain": [
       "(17777, 3)"
      ]
     },
     "execution_count": 5,
     "metadata": {},
     "output_type": "execute_result"
    }
   ],
   "source": [
    "power_users = None\n",
    "power_users.shape\n",
    "\n",
    "# (17777, 3)"
   ]
  },
  {
   "cell_type": "code",
   "execution_count": 7,
   "id": "4b4b3f17",
   "metadata": {},
   "outputs": [
    {
     "data": {
      "text/plain": [
       "0.1728439474963539"
      ]
     },
     "execution_count": 7,
     "metadata": {},
     "output_type": "execute_result"
    }
   ],
   "source": [
    "power_users.shape[0]/user_percentage_spend.shape[0]"
   ]
  },
  {
   "cell_type": "markdown",
   "id": "c3e31e27-6f86-4e6b-9db2-71819db133c2",
   "metadata": {},
   "source": [
    "* Core users"
   ]
  },
  {
   "cell_type": "code",
   "execution_count": 6,
   "id": "c4aea115-ae49-4fb4-8342-1b7560d8bc9a",
   "metadata": {},
   "outputs": [
    {
     "data": {
      "text/plain": [
       "(85073, 3)"
      ]
     },
     "execution_count": 6,
     "metadata": {},
     "output_type": "execute_result"
    }
   ],
   "source": [
    "core_users = None\n",
    "\n",
    "core_users.shape"
   ]
  },
  {
   "cell_type": "markdown",
   "id": "06910bf9-7afb-4eaf-9cc5-905243611a21",
   "metadata": {},
   "source": [
    "### Now select the power users"
   ]
  },
  {
   "cell_type": "markdown",
   "id": "65260f11",
   "metadata": {},
   "source": [
    "Then select the lineitems of the powerusers and those of the nonpower_users save them to two different tables -- `poweruser_lineitems` and `nonpower_lineitems`.  When calling `to_sql`, you may have to set `index = False` so that the index does not get stored to the table."
   ]
  },
  {
   "cell_type": "markdown",
   "id": "c94f05ab",
   "metadata": {},
   "source": [
    "### Now compare power users to core users\n",
    "\n",
    "Use the `group_and_print` function to quickly do so.  See if there are any differences between the two groups.  \n",
    "\n",
    "> Unfortunately, there are not too many differences.\n",
    "\n",
    "Finally write down any insights below."
   ]
  },
  {
   "cell_type": "code",
   "execution_count": null,
   "id": "b841a4a7",
   "metadata": {},
   "outputs": [],
   "source": []
  }
 ],
 "metadata": {
  "kernelspec": {
   "display_name": "Python 3 (ipykernel)",
   "language": "python",
   "name": "python3"
  },
  "language_info": {
   "codemirror_mode": {
    "name": "ipython",
    "version": 3
   },
   "file_extension": ".py",
   "mimetype": "text/x-python",
   "name": "python",
   "nbconvert_exporter": "python",
   "pygments_lexer": "ipython3",
   "version": "3.10.6"
  },
  "vscode": {
   "interpreter": {
    "hash": "b0fa6594d8f4cbf19f97940f81e996739fb7646882a419484c72d19e05852a7e"
   }
  }
 },
 "nbformat": 4,
 "nbformat_minor": 5
}
